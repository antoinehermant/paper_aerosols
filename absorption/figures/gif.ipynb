{
 "cells": [
  {
   "cell_type": "code",
   "execution_count": 2,
   "metadata": {},
   "outputs": [
    {
     "name": "stdout",
     "output_type": "stream",
     "text": [
      "GIF created successfully: /home/anthe/documents/misu/thesis/aerosol-prp/figures/historical_gif/output.gif\n"
     ]
    }
   ],
   "source": [
    "import os\n",
    "from PIL import Image\n",
    "\n",
    "def create_gif_from_png(png_folder, gif_path, duration=200):\n",
    "    # Create a list of PNG files in the folder\n",
    "    png_files = sorted([file for file in os.listdir(png_folder) if file.endswith('.png')])\n",
    "\n",
    "    # Open and append each PNG file to create frames for the GIF\n",
    "    frames = []\n",
    "    for png_file in png_files:\n",
    "        png_path = os.path.join(png_folder, png_file)\n",
    "        img = Image.open(png_path)\n",
    "        frames.append(img)\n",
    "\n",
    "    # Save frames as a GIF file\n",
    "    frames[0].save(gif_path, format='GIF', append_images=frames[1:], save_all=True, duration=duration, loop=0)\n",
    "    print(f\"GIF created successfully: {gif_path}\")\n",
    "\n",
    "# Example usage\n",
    "png_folder = '/home/anthe/documents/misu/thesis/aerosol-prp/figures/historical_gif/png'\n",
    "output_gif = '/home/anthe/documents/misu/thesis/aerosol-prp/figures/historical_gif/output.gif'\n",
    "\n",
    "# Create the GIF from the PNG files\n",
    "create_gif_from_png(png_folder, output_gif)\n"
   ]
  },
  {
   "cell_type": "code",
   "execution_count": 2,
   "metadata": {},
   "outputs": [
    {
     "name": "stdout",
     "output_type": "stream",
     "text": [
      "Video created successfully: /home/anthe/documents/misu/paper_aerosols/absorption/figures/absorption_maps_yearmean.mp4\n"
     ]
    }
   ],
   "source": [
    "import os\n",
    "import cv2\n",
    "import time\n",
    "\n",
    "def create_video_from_png(png_folder, video_path, fps=2, frame_delay=0.5):\n",
    "    # Create a list of PNG files in the folder and sort them\n",
    "    png_files = sorted([file for file in os.listdir(png_folder) if file.endswith('.png')])\n",
    "\n",
    "    # Get the first image dimensions to initialize the video writer\n",
    "    first_image = cv2.imread(os.path.join(png_folder, png_files[0]))\n",
    "    height, width, _ = first_image.shape\n",
    "\n",
    "    # Initialize the video writer\n",
    "    fourcc = cv2.VideoWriter_fourcc(*'mp4v')  # You can choose different codecs (e.g., 'XVID')\n",
    "    video_writer = cv2.VideoWriter(video_path, fourcc, fps, (width, height))\n",
    "\n",
    "    # Write each frame to the video file\n",
    "    for png_file in png_files:\n",
    "        png_path = os.path.join(png_folder, png_file)\n",
    "        frame = cv2.imread(png_path)\n",
    "        video_writer.write(frame)\n",
    "        time.sleep(frame_delay)  # Add a delay between frames\n",
    "\n",
    "    # Release the video writer\n",
    "    video_writer.release()\n",
    "\n",
    "    print(f\"Video created successfully: {video_path}\")\n",
    "\n",
    "# Example usage\n",
    "#png_folder = '/home/anthe/documents/misu/thesis/aerosol-prp/figures/historical_gif/png'\n",
    "#output_video = '/home/anthe/documents/misu/thesis/aerosol-prp/figures/historical_gif/output.mp4'\n",
    "\n",
    "png_folder = '/home/anthe/documents/misu/paper_aerosols/absorption/figures/maps/'\n",
    "output_video = '/home/anthe/documents/misu/paper_aerosols/absorption/figures/absorption_maps_yearmean.mp4'\n",
    "\n",
    "# Create the video from the PNG files\n",
    "create_video_from_png(png_folder, output_video)\n"
   ]
  }
 ],
 "metadata": {
  "kernelspec": {
   "display_name": "misu",
   "language": "python",
   "name": "python3"
  },
  "language_info": {
   "codemirror_mode": {
    "name": "ipython",
    "version": 3
   },
   "file_extension": ".py",
   "mimetype": "text/x-python",
   "name": "python",
   "nbconvert_exporter": "python",
   "pygments_lexer": "ipython3",
   "version": "3.10.8"
  },
  "orig_nbformat": 4
 },
 "nbformat": 4,
 "nbformat_minor": 2
}
