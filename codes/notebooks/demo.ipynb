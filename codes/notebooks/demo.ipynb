{
 "cells": [
  {
   "cell_type": "markdown",
   "metadata": {},
   "source": [
    "Numerical demonstration"
   ]
  },
  {
   "cell_type": "markdown",
   "metadata": {},
   "source": [
    "Let's take absorbing surfaces:\n",
    "\n",
    "For $\\alpha_1 = 0.1$, let's take $F_1 = -20$ W.m $^{-2}$\n",
    "\n",
    "For $\\alpha_2 = 2*\\alpha_1 = 0.2$, and $F_2 = 0.5*F_1 = -10$ W.m $^{-2}$\n",
    "\n",
    "$F_1*\\alpha_1 = -20*0.1 = -2$\n",
    "\n",
    "$F_2*\\alpha_2 = -10*0.2 = -2$\n",
    "\n",
    "Works if aerosol forcing directly proportional to surface albedo (which seems to be the case from my plots)"
   ]
  },
  {
   "cell_type": "markdown",
   "metadata": {},
   "source": [
    "But:\n",
    "\n",
    "$\\frac{F_1}{(1 - \\alpha_1)} = \\frac{-20}{0.8} = -20*1.1 = 22$\n",
    "\n",
    "$\\frac{F_2}{(1 - \\alpha_2)} = \\frac{-10}{0.9} = -10*1.25 = 12.5$\n",
    "\n",
    "Not linear, not the same as normalising because albedo = ]0;1["
   ]
  }
 ],
 "metadata": {
  "kernelspec": {
   "display_name": "misu",
   "language": "python",
   "name": "python3"
  },
  "language_info": {
   "codemirror_mode": {
    "name": "ipython",
    "version": 3
   },
   "file_extension": ".py",
   "mimetype": "text/x-python",
   "name": "python",
   "nbconvert_exporter": "python",
   "pygments_lexer": "ipython3",
   "version": "3.10.12"
  }
 },
 "nbformat": 4,
 "nbformat_minor": 2
}
